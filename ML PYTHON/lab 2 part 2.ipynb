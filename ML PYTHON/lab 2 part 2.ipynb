{
 "cells": [
  {
   "cell_type": "code",
   "execution_count": null,
   "id": "a3418c2d",
   "metadata": {},
   "outputs": [],
   "source": [
    "import pandas as pd\n",
    "import numpy as np\n",
    "from matplotlib import pyplot as plt\n",
    "import matplotlib\n",
    "\n",
    "file_dir = ''\n",
    "labels = pd.read_csv(file_dir + 'labels-1.csv')\n",
    "display(labels)\n",
    "\n"
   ]
  },
  {
   "cell_type": "code",
   "execution_count": null,
   "id": "01f8fa81",
   "metadata": {},
   "outputs": [],
   "source": [
    "DS = 8             # Downsample rate, must be a multiple of 30976\n",
    "\n",
    "if 30976/DS % 1 > 0:\n",
    "    print(\"Downsample rate is not a multiple of 30976\")\n",
    "    DS = 1\n",
    "    im_size = 30976\n",
    "else:\n",
    "    im_size = int(30976/DS)\n",
    "\n",
    "\n",
    "data = np.zeros([609, im_size])\n",
    "\n",
    "\n",
    "for i, file_name in enumerate(labels['Filename']):\n",
    "        img = np.mean(matplotlib.image.imread(file_dir + file_name),axis=2).reshape(-1)\n",
    "        data[i,:] = img[::DS]            # Downsample the image"
   ]
  },
  {
   "cell_type": "code",
   "execution_count": null,
   "id": "e8e44499",
   "metadata": {},
   "outputs": [],
   "source": [
    "Train_size=450\n",
    "train=labels.sample(n=Train_size,replace=False,random_state=255)\n",
    "test=labels.drop(train.index)\n",
    "Y_train=train['nWBV']\n",
    "X_train=data[train.index]\n",
    "Y_test=test['nWBV']\n",
    "X_test=data[test.index]"
   ]
  },
  {
   "cell_type": "code",
   "execution_count": null,
   "id": "8e2529d9",
   "metadata": {},
   "outputs": [],
   "source": [
    "def RSS(y,Y):\n",
    "    y = np.matrix(y).reshape(-1,1)\n",
    "    Y = np.matrix(Y).reshape(-1,1)\n",
    "    \n",
    "    return (y-Y).T*(y-Y)\n",
    "\n",
    "def RMS(y,Y):    \n",
    "    return np.sqrt(RSS(y,Y))/len(y)\n",
    "\n",
    "def Rs(y,Y): \n",
    "    y = np.matrix(y).reshape(-1,1)\n",
    "    Y = np.matrix(Y).reshape(-1,1)\n",
    "    \n",
    "    return 1 - RSS(y,Y)/((Y - np.mean(Y)).T*(Y - Y.mean()))"
   ]
  },
  {
   "cell_type": "code",
   "execution_count": null,
   "id": "33f61c02",
   "metadata": {},
   "outputs": [],
   "source": [
    "import statsmodels.api as sm\n",
    "r_sqds = []\n",
    "alphas = np.linspace(0,.1,50)\n",
    "\n",
    "for alp in alphas:\n",
    "    ols = sm.OLS(Y_train, sm.add_constant(X_train))\n",
    "    ols_result = ols.fit_regularized(L1_wt=0,alpha=alp)\n",
    "\n",
    "    r_sqds.append(Rs(ols_result.predict(sm.add_constant(X_test,has_constant='add')),Y_test).A1)\n",
    "\n"
   ]
  },
  {
   "cell_type": "code",
   "execution_count": null,
   "id": "a5471573",
   "metadata": {},
   "outputs": [],
   "source": [
    "r_sqds_m=np.max(r_sqds)\n",
    "index=np.argmax(r_sqds)\n",
    "plt.plot(alphas,r_sqds)"
   ]
  },
  {
   "cell_type": "code",
   "execution_count": null,
   "id": "3d60b1fd",
   "metadata": {},
   "outputs": [],
   "source": [
    "Train_size=450\n",
    "train=labels.sample(n=Train_size,replace=False,random_state=255)\n",
    "test=labels.drop(train.index)\n",
    "Y_train=train['nWBV']\n",
    "X_train=data[train.index]\n",
    "Y_test=test['nWBV']\n",
    "X_test=data[test.index]\n",
    "r_sqds = []\n",
    "rss_s = []\n",
    "X_train1=pd.DataFrame(X_train)\n",
    "\n",
    "alphas = np.linspace(0,0.01,10)\n",
    "\n",
    "for alp in alphas:\n",
    "    ols = sm.OLS(Y_train, sm.add_constant(X_train))\n",
    "    ols_result = ols.fit_regularized(L1_wt=1,alpha=alp)\n",
    "    \n",
    "    r_sqds.append(Rs(ols_result.predict(sm.add_constant(X_test,has_constant='add')),Y_test).A1)\n",
    "    rss_s.append(RMS(ols_result.predict(sm.add_constant(X_test,has_constant='add')),Y_test).A1)\n",
    "    \n",
    "print(np.max(r_sqds))\n",
    "print(np.max(rss_s))\n",
    "plt.plot(alphas,r_sqds)"
   ]
  }
 ],
 "metadata": {
  "kernelspec": {
   "display_name": "Python 3 (ipykernel)",
   "language": "python",
   "name": "python3"
  },
  "language_info": {
   "codemirror_mode": {
    "name": "ipython",
    "version": 3
   },
   "file_extension": ".py",
   "mimetype": "text/x-python",
   "name": "python",
   "nbconvert_exporter": "python",
   "pygments_lexer": "ipython3",
   "version": "3.9.7"
  }
 },
 "nbformat": 4,
 "nbformat_minor": 5
}

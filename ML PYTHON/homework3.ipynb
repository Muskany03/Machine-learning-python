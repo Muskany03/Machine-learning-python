{
 "cells": [
  {
   "cell_type": "code",
   "execution_count": 3,
   "id": "7aa5ffbc",
   "metadata": {},
   "outputs": [],
   "source": [
    "import numpy as np\n",
    "import pandas as pd\n",
    "import pylab\n",
    "import math\n",
    "\n",
    "\n",
    "%matplotlib inline\n",
    "import matplotlib as mpl\n",
    "import matplotlib.pyplot as plt\n",
    "mpl.rc('axes', labelsize=12)\n",
    "mpl.rc('xtick', labelsize=10)\n",
    "mpl.rc('ytick', labelsize=10)\n",
    "\n",
    "import seaborn as sns \n",
    "\n",
    "\n",
    "#Q2\n",
    "#gradient descent to find the logistic regression model\n",
    "data=pd.read_csv(\"data.csv\", error_bad_lines=False) "
   ]
  },
  {
   "cell_type": "code",
   "execution_count": 5,
   "id": "ea79dd5a",
   "metadata": {},
   "outputs": [],
   "source": [
    "x1 = data.x1.values\n",
    "x2 = data.x2.values\n",
    "Y = data.y.values\n",
    "X12 = data[['x1','x2']]\n",
    "x12 = X12.to_numpy() \n",
    "X = np.hstack([np.ones((X12.shape[0], 1)), X12.values])\n",
    "X=data.values[:, :-1]"
   ]
  },
  {
   "cell_type": "code",
   "execution_count": 6,
   "id": "df0a77cb",
   "metadata": {},
   "outputs": [
    {
     "data": {
      "text/plain": [
       "array([ 3.81,  0.23,  3.05,  0.68,  2.67, -2.04, -0.72, -2.46, -3.51,\n",
       "       -2.05])"
      ]
     },
     "execution_count": 6,
     "metadata": {},
     "output_type": "execute_result"
    }
   ],
   "source": [
    "x1"
   ]
  },
  {
   "cell_type": "markdown",
   "id": "211098f3",
   "metadata": {},
   "source": [
    "x1"
   ]
  },
  {
   "cell_type": "code",
   "execution_count": 93,
   "id": "8de01ccf",
   "metadata": {},
   "outputs": [
    {
     "data": {
      "text/plain": [
       "array([ 3.81,  0.23,  3.05,  0.68,  2.67, -2.04, -0.72, -2.46, -3.51,\n",
       "       -2.05])"
      ]
     },
     "execution_count": 93,
     "metadata": {},
     "output_type": "execute_result"
    }
   ],
   "source": [
    "X[:,0]"
   ]
  },
  {
   "cell_type": "code",
   "execution_count": 94,
   "id": "0c3483c0",
   "metadata": {},
   "outputs": [
    {
     "data": {
      "text/plain": [
       "(10, 3)"
      ]
     },
     "execution_count": 94,
     "metadata": {},
     "output_type": "execute_result"
    }
   ],
   "source": [
    "X.shape"
   ]
  },
  {
   "cell_type": "code",
   "execution_count": 102,
   "id": "8b48ed75",
   "metadata": {},
   "outputs": [],
   "source": [
    "theta0 = 0\n",
    "theta1 = 0\n",
    "theta2 = 0\n",
    "L = 0.001\n",
    "epochs = 1000\n",
    "\n",
    "def sigmoid(X, theta0, theta1, theta2):\n",
    "    return np.array([1 / (1 + math.exp(-1*theta0 + -1*theta1*x[0] + -1*theta2*x[1] )) for x in X])\n",
    "\n"
   ]
  },
  {
   "cell_type": "code",
   "execution_count": 103,
   "id": "7d406dfa",
   "metadata": {},
   "outputs": [],
   "source": [
    "for epoch in range(epochs):\n",
    "    y_pred = sigmoid(X, theta0, theta1, theta2)\n",
    "    D_theta0 = -2 * sum((Y - y_pred) * y_pred * (1 - y_pred))\n",
    "    D_theta1 = -2 * sum(X[:,0] * (Y - y_pred) * y_pred * (1 - y_pred)) \n",
    "    D_theta2 = -2 * sum(X[:,1] * (Y - y_pred) * y_pred * (1 - y_pred)) \n",
    "\n",
    "    theta0 = theta0 - L * D_theta0\n",
    "    theta1 = theta1 - L * D_theta1\n",
    "    theta2 = theta2 - L * D_theta2   "
   ]
  },
  {
   "cell_type": "code",
   "execution_count": 110,
   "id": "6e5ed68d",
   "metadata": {},
   "outputs": [
    {
     "name": "stdout",
     "output_type": "stream",
     "text": [
      "0.014608623502283292 0.7295112221404941 0.6571141255654067\n"
     ]
    }
   ],
   "source": [
    "theta_final=print(theta0,theta1,theta2)   "
   ]
  },
  {
   "cell_type": "code",
   "execution_count": 111,
   "id": "96ab10ac",
   "metadata": {},
   "outputs": [],
   "source": [
    "data = data.assign(Y2=lambda f: f['y'])\n",
    "data.loc[lambda f: f['Y2']==0, 'Y2'] = -1"
   ]
  },
  {
   "cell_type": "code",
   "execution_count": 112,
   "id": "eddbe0ad",
   "metadata": {},
   "outputs": [],
   "source": [
    "y_3 = data.Y2.values"
   ]
  },
  {
   "cell_type": "code",
   "execution_count": 113,
   "id": "555863de",
   "metadata": {},
   "outputs": [
    {
     "data": {
      "text/plain": [
       "array([-3.51,  3.81])"
      ]
     },
     "execution_count": 113,
     "metadata": {},
     "output_type": "execute_result"
    }
   ],
   "source": [
    "x1_vec = np.linspace(data[\"x1\"].min(),data[\"x1\"].max(),2);\n",
    "x1_vec"
   ]
  },
  {
   "cell_type": "code",
   "execution_count": 117,
   "id": "46a7386f",
   "metadata": {},
   "outputs": [
    {
     "data": {
      "image/png": "[encoded data removed]",
      "text/plain": [
       "<Figure size 720x504 with 1 Axes>"
      ]
     },
     "metadata": {
      "needs_background": "light"
     },
     "output_type": "display_data"
    }
   ],
   "source": [
    "fig = plt.figure()\n",
    "ax1 = fig.add_subplot(111)\n",
    "\n",
    "trues = data[data.y.values == 1]\n",
    "falses = data[data.y.values == 0]\n",
    "\n",
    "ax1.scatter(trues['x1'],trues['x2'], s=25, c='g', marker=\"o\", label='1')\n",
    "ax1.scatter(falses['x1'],falses['x2'], s=25, c='r', marker=\"x\", label='0')\n",
    "plt.plot(x1_vec,(-x1_vec*0.7295112221404941-0.014608623502283292)/0.6571141255654067, color=\"red\"); #  Plot decision boundary\n",
    "\n",
    "plt.legend(loc='upper right');\n",
    "ax1.set_xlabel('x1')\n",
    "ax1.set_ylabel('x2')\n",
    "fig.set_size_inches(10, 7) \n",
    "plt.show() \n",
    "\n"
   ]
  },
  {
   "cell_type": "code",
   "execution_count": 119,
   "id": "6a3e1982",
   "metadata": {},
   "outputs": [
    {
     "name": "stdout",
     "output_type": "stream",
     "text": [
      "mean1 =  [[2.088]\n",
      " [2.186]]\n",
      "mean2 =  [[-2.156]\n",
      " [-1.72 ]]\n"
     ]
    },
    {
     "data": {
      "image/png": "[encoded data removed]",
      "text/plain": [
       "<Figure size 504x504 with 1 Axes>"
      ]
     },
     "metadata": {
      "needs_background": "light"
     },
     "output_type": "display_data"
    }
   ],
   "source": [
    "#Q3\n",
    "#computing the covariances, means\n",
    "\n",
    "label1 = np.array([[3.81,0.23,3.05,0.68,2.67],[-0.55,3.37,3.53,1.84,2.74]])\n",
    "label2 = np.array([[-2.04,-0.72,-2.46,-3.51,-2.05],[-1.25,-3.35,-1.31,0.13,-2.82]])\n",
    "\n",
    "#Plot the data\n",
    "fig = plt.figure(figsize=(7,7))\n",
    "ax0 = fig.add_subplot(111)\n",
    "\n",
    "ax0.scatter(label1[0],label1[1],marker='^',c='yellow',edgecolor='black')\n",
    "ax0.scatter(label2[0],label2[1],marker='o',c='blue',edgecolor='black')\n",
    "\n",
    "# Calculating the mean vectors\n",
    "mean_1 = np.mean(label1,axis=1).reshape(2,1)\n",
    "print('mean1 = ',mean_1)\n",
    "mean_2 = np.mean(label2,axis=1).reshape(2,1)\n",
    "print('mean2 = ',mean_2)\n",
    "sca_1 = np.dot((label1-mean_1),(label1-mean_1).T)\n",
    "sca_2 = np.dot((label2-mean_2),(label2-mean_2).T)\n",
    "\n"
   ]
  },
  {
   "cell_type": "code",
   "execution_count": 12,
   "id": "34e259b1",
   "metadata": {},
   "outputs": [
    {
     "data": {
      "text/plain": [
       "array([[ 1.36766 , -0.984104],\n",
       "       [-0.984104,  1.879892]])"
      ]
     },
     "execution_count": 12,
     "metadata": {},
     "output_type": "execute_result"
    }
   ],
   "source": [
    "#covariance matrix\n",
    "k=len(label1.T) + len(label2.T)\n",
    "sigma = (sca_1 + sca_2)/k\n",
    "sigma"
   ]
  },
  {
   "cell_type": "code",
   "execution_count": null,
   "id": "467e39b1",
   "metadata": {},
   "outputs": [],
   "source": []
  },
  {
   "cell_type": "code",
   "execution_count": null,
   "id": "5781d5e1",
   "metadata": {},
   "outputs": [],
   "source": []
  }
 ],
 "metadata": {
  "kernelspec": {
   "display_name": "Python 3 (ipykernel)",
   "language": "python",
   "name": "python3"
  },
  "language_info": {
   "codemirror_mode": {
    "name": "ipython",
    "version": 3
   },
   "file_extension": ".py",
   "mimetype": "text/x-python",
   "name": "python",
   "nbconvert_exporter": "python",
   "pygments_lexer": "ipython3",
   "version": "3.9.7"
  }
 },
 "nbformat": 4,
 "nbformat_minor": 5
}

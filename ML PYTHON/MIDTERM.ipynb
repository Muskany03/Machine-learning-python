{
 "cells": [
  {
   "cell_type": "code",
   "execution_count": 1,
   "id": "3920c712",
   "metadata": {},
   "outputs": [],
   "source": [
    "import numpy as np\n",
    "import pandas as pd\n",
    "import pylab\n",
    "import math\n",
    "%matplotlib inline\n",
    "import matplotlib as mpl\n",
    "import matplotlib.pyplot as plt\n",
    "mpl.rc('axes', labelsize=12)\n",
    "mpl.rc('xtick', labelsize=10)\n",
    "mpl.rc('ytick', labelsize=10)\n",
    "import seaborn as sns \n",
    "from numpy.linalg import inv\n",
    "import matplotlib.pyplot as plt\n",
    "import warnings\n",
    "warnings.filterwarnings('ignore')\n"
   ]
  },
  {
   "cell_type": "code",
   "execution_count": 2,
   "id": "3ef67796",
   "metadata": {},
   "outputs": [],
   "source": [
    "# QUESTION 2"
   ]
  },
  {
   "cell_type": "code",
   "execution_count": 3,
   "id": "5db24163",
   "metadata": {},
   "outputs": [],
   "source": [
    "# PART 1"
   ]
  },
  {
   "cell_type": "code",
   "execution_count": 4,
   "id": "16859953",
   "metadata": {},
   "outputs": [],
   "source": [
    "x=np.array([[1, 2.1], [2, 4.1], [3, 5.9], [4, 8.2], [5, 9.9]])\n",
    "y=np.array([2.3, 4.3, 6.3, 7.8, 9.8])"
   ]
  },
  {
   "cell_type": "code",
   "execution_count": 5,
   "id": "ad37d692",
   "metadata": {},
   "outputs": [],
   "source": [
    "def normal_equation(x, y ,c = None):\n",
    "    if c is None:\n",
    "        # for linear regression\n",
    "        return np.linalg.inv(x.T.dot(x)).dot(x.T).dot(y)\n",
    "    else:\n",
    "        #for ridge regression\n",
    "        return np.linalg.inv(x.T.dot(x)+c*np.identity(1)).dot(x.T).dot(y)"
   ]
  },
  {
   "cell_type": "code",
   "execution_count": 6,
   "id": "a7a82d47",
   "metadata": {},
   "outputs": [
    {
     "data": {
      "text/plain": [
       "array([-3.3099785 ,  1.94826016,  0.70548844])"
      ]
     },
     "execution_count": 6,
     "metadata": {},
     "output_type": "execute_result"
    }
   ],
   "source": [
    "x1 = np.append(np.ones(x.shape[0]), x)\n",
    "x2 = x1.reshape(3,-1).T\n",
    "coefficient=normal_equation(x2,y)\n",
    "coefficient\n"
   ]
  },
  {
   "cell_type": "code",
   "execution_count": 7,
   "id": "a584570a",
   "metadata": {},
   "outputs": [
    {
     "data": {
      "text/plain": [
       "array([1. , 1. , 1. , 1. , 1. , 1. , 2.1, 2. , 4.1, 3. , 5.9, 4. , 8.2,\n",
       "       5. , 9.9])"
      ]
     },
     "execution_count": 7,
     "metadata": {},
     "output_type": "execute_result"
    }
   ],
   "source": [
    "x1"
   ]
  },
  {
   "cell_type": "code",
   "execution_count": 8,
   "id": "61b0866d",
   "metadata": {},
   "outputs": [
    {
     "data": {
      "text/plain": [
       "-3.3099785014690415"
      ]
     },
     "execution_count": 8,
     "metadata": {},
     "output_type": "execute_result"
    }
   ],
   "source": [
    "coefficient[0]"
   ]
  },
  {
   "cell_type": "code",
   "execution_count": 9,
   "id": "e70a018d",
   "metadata": {},
   "outputs": [
    {
     "data": {
      "text/plain": [
       "array([[1. , 1. , 5.9],\n",
       "       [1. , 2.1, 4. ],\n",
       "       [1. , 2. , 8.2],\n",
       "       [1. , 4.1, 5. ],\n",
       "       [1. , 3. , 9.9]])"
      ]
     },
     "execution_count": 9,
     "metadata": {},
     "output_type": "execute_result"
    }
   ],
   "source": [
    "x2"
   ]
  },
  {
   "cell_type": "code",
   "execution_count": 12,
   "id": "37c8698f",
   "metadata": {},
   "outputs": [
    {
     "name": "stdout",
     "output_type": "stream",
     "text": [
      "The RSS cost is given by 0.9843200931687214\n"
     ]
    }
   ],
   "source": [
    "Y_pred=x2.dot(coefficient)\n",
    "RSS_cost=((Y_pred-y).transpose()).dot(Y_pred-y)\n",
    "print(\"The RSS cost is given by\",RSS_cost)"
   ]
  },
  {
   "cell_type": "code",
   "execution_count": 15,
   "id": "dbede4ae",
   "metadata": {},
   "outputs": [
    {
     "data": {
      "image/png": "[encoded data removed]",
      "text/plain": [
       "<Figure size 720x504 with 1 Axes>"
      ]
     },
     "metadata": {
      "needs_background": "light"
     },
     "output_type": "display_data"
    }
   ],
   "source": [
    "fig,ax = plt.subplots()\n",
    "ax.plot(x[:,1],y,'x',color='Blue')\n",
    "plt.plot(x[:,1], Y_pred, color='red')\n",
    "fig.set_size_inches(10, 7) \n",
    "plt.show()"
   ]
  },
  {
   "cell_type": "code",
   "execution_count": 16,
   "id": "9748980c",
   "metadata": {},
   "outputs": [],
   "source": [
    "#PART 2"
   ]
  },
  {
   "cell_type": "code",
   "execution_count": 17,
   "id": "98ad6c2a",
   "metadata": {},
   "outputs": [
    {
     "data": {
      "text/plain": [
       "array([[-3.52, -2.42],\n",
       "       [-2.52, -0.42],\n",
       "       [-1.52,  1.38],\n",
       "       [-0.52,  3.68],\n",
       "       [ 0.48,  5.38]])"
      ]
     },
     "execution_count": 17,
     "metadata": {},
     "output_type": "execute_result"
    }
   ],
   "source": [
    "x_normal = x-np.mean(x)\n",
    "x_normal"
   ]
  },
  {
   "cell_type": "code",
   "execution_count": 18,
   "id": "74d2d6d2",
   "metadata": {},
   "outputs": [
    {
     "data": {
      "text/plain": [
       "6.1"
      ]
     },
     "execution_count": 18,
     "metadata": {},
     "output_type": "execute_result"
    }
   ],
   "source": [
    "ybar=np.mean(y)\n",
    "ybar"
   ]
  },
  {
   "cell_type": "code",
   "execution_count": 19,
   "id": "0d83e385",
   "metadata": {},
   "outputs": [
    {
     "name": "stdout",
     "output_type": "stream",
     "text": [
      "Coefficient for lambda=1 :  [-2.03495573  1.9711764 ]\n"
     ]
    }
   ],
   "source": [
    "x_normal = x-np.mean(x)\n",
    "Ridge_lambda_1 = normal_equation(x_normal,y,1)\n",
    "\n",
    "print(\"Coefficient for lambda=1 : \" ,Ridge_lambda_1)"
   ]
  },
  {
   "cell_type": "code",
   "execution_count": 20,
   "id": "cad6b06c",
   "metadata": {},
   "outputs": [
    {
     "name": "stdout",
     "output_type": "stream",
     "text": [
      "Coefficient for lambda=10:  [-2.01956909  1.97605488]\n"
     ]
    }
   ],
   "source": [
    "Ridge_lambda_10 = normal_equation(x_normal,y,10)\n",
    "print(\"Coefficient for lambda=10: \" ,Ridge_lambda_10)"
   ]
  },
  {
   "cell_type": "code",
   "execution_count": 21,
   "id": "4cf853cb",
   "metadata": {},
   "outputs": [
    {
     "name": "stdout",
     "output_type": "stream",
     "text": [
      "RSS for lambda 1 : 0.5372186331986768\n",
      "RSS for lambda 10 : 0.5473293378640278\n"
     ]
    }
   ],
   "source": [
    "rss_1 = (Ridge_lambda_1.T.dot(x_normal.T).dot(x_normal).dot(Ridge_lambda_1))-(2*y.T.dot(x_normal).dot(Ridge_lambda_1))+y.T.dot(y)\n",
    "rss_10 = (Ridge_lambda_10.T.dot(x_normal.T).dot(x_normal).dot(Ridge_lambda_10))-(2*y.T.dot(x_normal).dot(Ridge_lambda_10))+y.T.dot(y)\n",
    "\n",
    "print(\"RSS for lambda 1 :\" , rss_1)\n",
    "print(\"RSS for lambda 10 :\" , rss_10)"
   ]
  },
  {
   "cell_type": "code",
   "execution_count": 22,
   "id": "716297e4",
   "metadata": {},
   "outputs": [],
   "source": [
    "# QUESTION 3"
   ]
  },
  {
   "cell_type": "code",
   "execution_count": 23,
   "id": "bf4540bc",
   "metadata": {},
   "outputs": [],
   "source": [
    "# PART 2"
   ]
  },
  {
   "cell_type": "code",
   "execution_count": 24,
   "id": "c308e2b3",
   "metadata": {},
   "outputs": [],
   "source": [
    "x=np.array([0. , 0.2, 0.4, 0.6, 0.8, 1. , 1.2, 1.4 ])\n",
    "y=np.array([5.1, 6.4, 6.1, 8.2, 9.5, 8.6, 12, 14.8])\n",
    "exponential=[]\n",
    "for i in x:\n",
    "    exponential.append(math.exp(i))"
   ]
  },
  {
   "cell_type": "code",
   "execution_count": 25,
   "id": "c1e21c17",
   "metadata": {},
   "outputs": [],
   "source": [
    "c=np.vstack([np.ones(len(x)),x,exponential]).T"
   ]
  },
  {
   "cell_type": "code",
   "execution_count": 26,
   "id": "0d7e254f",
   "metadata": {},
   "outputs": [
    {
     "data": {
      "text/plain": [
       "array([ 1.71129241, -1.83495516,  3.76854366])"
      ]
     },
     "execution_count": 26,
     "metadata": {},
     "output_type": "execute_result"
    }
   ],
   "source": [
    "theta=np.dot(np.linalg.inv(np.dot(c.T,c)),np.dot(c.T,y))\n",
    "theta"
   ]
  },
  {
   "cell_type": "code",
   "execution_count": 27,
   "id": "c2a373ec",
   "metadata": {},
   "outputs": [
    {
     "name": "stdout",
     "output_type": "stream",
     "text": [
      "1.7112924050123297 , -1.8349551616718145 , 3.7685436607837346\n"
     ]
    },
    {
     "data": {
      "image/png": "[encoded data removed]",
      "text/plain": [
       "<Figure size 432x288 with 1 Axes>"
      ]
     },
     "metadata": {
      "needs_background": "light"
     },
     "output_type": "display_data"
    }
   ],
   "source": [
    "yn = theta[0]+theta[1]*x+theta[2]*np.exp(x)\n",
    "print(theta[0],',', theta[1],',',theta[2])\n",
    "plt.plot(x, yn)\n",
    "plt.show()"
   ]
  },
  {
   "cell_type": "code",
   "execution_count": 28,
   "id": "2ea1d351",
   "metadata": {},
   "outputs": [],
   "source": [
    "#PART 3"
   ]
  },
  {
   "cell_type": "code",
   "execution_count": 29,
   "id": "79512c08",
   "metadata": {},
   "outputs": [
    {
     "name": "stdout",
     "output_type": "stream",
     "text": [
      "The RSS cost is given  4.330238571373964\n"
     ]
    }
   ],
   "source": [
    "cost=0\n",
    "for i in range(0,8):\n",
    "    cost+=(y[i]-1.7112924050123297+1.8349551616718145*x[i]-3.7685436607837346*math.exp(x[i]))**2\n",
    "print(\"The RSS cost is given \",cost)    "
   ]
  },
  {
   "cell_type": "code",
   "execution_count": 30,
   "id": "bbfe2d55",
   "metadata": {},
   "outputs": [],
   "source": [
    "# QUESTION 4"
   ]
  },
  {
   "cell_type": "code",
   "execution_count": 31,
   "id": "2f5360da",
   "metadata": {},
   "outputs": [],
   "source": [
    "#PART 1"
   ]
  },
  {
   "cell_type": "code",
   "execution_count": 32,
   "id": "ba0b4d4e",
   "metadata": {},
   "outputs": [],
   "source": [
    "data=pd.read_csv(\"data.csv\", error_bad_lines=False) "
   ]
  },
  {
   "cell_type": "code",
   "execution_count": 33,
   "id": "8b3af04e",
   "metadata": {},
   "outputs": [],
   "source": [
    "x1 = data.x1.values\n",
    "x2 = data.x2.values\n",
    "y = data.y.values\n",
    "x1_x2 = data[['x1','x2']]\n",
    "x12 = x1_x2.to_numpy() \n",
    "x = np.hstack([np.ones((x1_x2.shape[0], 1)),x1_x2])\n"
   ]
  },
  {
   "cell_type": "code",
   "execution_count": 34,
   "id": "c1d50c9a",
   "metadata": {},
   "outputs": [],
   "source": [
    "def sigmoid(x):\n",
    "    return 1/(1+np.exp(-x))\n",
    "\n",
    "\n",
    "\n",
    "def grad_cost(theta,x,y):\n",
    "    z=x.dot(theta)\n",
    "    gradcost=(1/len(x))*np.matmul(x.T,sigmoid(z)-y)\n",
    "    return gradcost\n",
    "\n",
    "\n",
    "def GradDesc(x,y,theta,alpha,iteration):\n",
    "    for i in range(iteration):\n",
    "        theta_new=theta-alpha*grad_cost(theta,x,y)\n",
    "        theta=theta_new\n",
    "    return theta_new\n",
    "\n",
    "theta0=np.zeros(x.shape[1])\n",
    "\n",
    "\n",
    "theta0=np.zeros(x.shape[1])\n"
   ]
  },
  {
   "cell_type": "code",
   "execution_count": 37,
   "id": "c824aa9c",
   "metadata": {},
   "outputs": [],
   "source": [
    "alpha=0.02\n",
    "n_iter=1000\n",
    "theta=GradDesc(x,y,theta0,alpha,n_iter)"
   ]
  },
  {
   "cell_type": "code",
   "execution_count": 38,
   "id": "cf30d611",
   "metadata": {},
   "outputs": [
    {
     "data": {
      "text/plain": [
       "array([0.04617983, 1.37920924, 1.25274956])"
      ]
     },
     "execution_count": 38,
     "metadata": {},
     "output_type": "execute_result"
    }
   ],
   "source": [
    "theta"
   ]
  },
  {
   "cell_type": "code",
   "execution_count": 61,
   "id": "e59ff8c6",
   "metadata": {},
   "outputs": [],
   "source": [
    "x_value=np.array([np.min(x[:,1]),np.max(x[:,1])])\n",
    "y_value= -(theta[0] + theta[1]*x_value)/theta[2]"
   ]
  },
  {
   "cell_type": "code",
   "execution_count": 80,
   "id": "983d3852",
   "metadata": {},
   "outputs": [
    {
     "data": {
      "text/plain": [
       "array([-3.51,  3.81])"
      ]
     },
     "execution_count": 80,
     "metadata": {},
     "output_type": "execute_result"
    }
   ],
   "source": [
    "x1_vec = np.linspace(data[\"x1\"].min(),data[\"x1\"].max(),2);\n",
    "x1_vec"
   ]
  },
  {
   "cell_type": "code",
   "execution_count": 81,
   "id": "17089772",
   "metadata": {},
   "outputs": [
    {
     "data": {
      "image/png": "[encoded data removed]",
      "text/plain": [
       "<Figure size 720x504 with 1 Axes>"
      ]
     },
     "metadata": {},
     "output_type": "display_data"
    }
   ],
   "source": [
    "fig = plt.figure()\n",
    "ax1 = fig.add_subplot(111)\n",
    "\n",
    "trues = data[data.y.values == 1]\n",
    "falses = data[data.y.values == 0]\n",
    "\n",
    "ax1.scatter(trues['x1'],trues['x2'], s=25, c='b', marker=\"o\", label='1')\n",
    "ax1.scatter(falses['x1'],falses['x2'], s=25, c='g', marker=\"x\", label='0')\n",
    "plt.plot(x1_vec,(-x1_vec*1.37920924-0.04617983)/1.25274956, color=\"red\"); #  Plot decision boundary\n",
    "plt.legend(loc='upper right');\n",
    "ax1.set_xlabel('x1')\n",
    "ax1.set_ylabel('x2')\n",
    "fig.set_size_inches(10, 7) \n",
    "plt.show() "
   ]
  },
  {
   "cell_type": "code",
   "execution_count": 47,
   "id": "c6e21b30",
   "metadata": {},
   "outputs": [],
   "source": [
    "#PART3"
   ]
  },
  {
   "cell_type": "code",
   "execution_count": 48,
   "id": "b506fe76",
   "metadata": {},
   "outputs": [],
   "source": [
    "data['X1square'] = data['x1']**2\n",
    "data['X2square'] = data['x2']**2\n",
    "data['X1X2'] = data['x1']*data['x2']"
   ]
  },
  {
   "cell_type": "code",
   "execution_count": 49,
   "id": "33123b29",
   "metadata": {},
   "outputs": [],
   "source": [
    "X_2 = data[['x1','x2','X1square','X2square','X1X2']]\n",
    "X = np.hstack([np.ones((x1_x2.shape[0], 1)), X_2.values]) \n",
    "X = data[['x1','x2','X1square','X2square','X1X2']].values "
   ]
  },
  {
   "cell_type": "code",
   "execution_count": 57,
   "id": "cb1c2697",
   "metadata": {},
   "outputs": [],
   "source": [
    "theta0 = 0\n",
    "theta1 = 0\n",
    "theta2 = 0\n",
    "theta3 = 0\n",
    "theta4 = 0\n",
    "theta5 = 0\n",
    "L = 0.02\n",
    "epochs = 1000\n",
    "# Method for predictions\n",
    "def sigmoid(x, theta0, theta1, theta2, theta3, theta4,theta5):\n",
    "    return np.array([1 / (1 + math.exp(-1*theta0 + -1*theta1*x[0] + -1*theta2*x[1] + -1*theta2*x[2]+ -1*theta2*x[3] + -1*theta2*x[4])) for x in X])"
   ]
  },
  {
   "cell_type": "code",
   "execution_count": 58,
   "id": "adad76e6",
   "metadata": {},
   "outputs": [],
   "source": [
    " for epoch in range(epochs):\n",
    "    y_pred = sigmoid(x, theta0, theta1, theta2, theta3, theta4,theta5)\n",
    "    D_theta0 = -2 * sum((y - y_pred) * y_pred * (1 - y_pred)) \n",
    "    D_theta1 = -2 * sum(X[:,0] * (y - y_pred) * y_pred * (1 - y_pred))\n",
    "    D_theta2 = -2 * sum(X[:,1] * (y - y_pred) * y_pred * (1 - y_pred)) \n",
    "    D_theta3 = -2 * sum(X[:,2] * (y - y_pred) * y_pred * (1 - y_pred)) \n",
    "    D_theta4 = -2 * sum(X[:,3] * (y - y_pred) * y_pred * (1 - y_pred)) \n",
    "    D_theta5 = -2 * sum(X[:,4] * (y - y_pred) * y_pred * (1 - y_pred)) \n",
    "    theta0 = theta0 - L * D_theta0\n",
    "    theta1 = theta1 - L * D_theta1\n",
    "    theta2 = theta2 - L * D_theta2\n",
    "    theta3 = theta3 - L * D_theta3\n",
    "    theta4 = theta4 - L * D_theta4\n",
    "    theta5 = theta5 - L * D_theta5"
   ]
  },
  {
   "cell_type": "code",
   "execution_count": 59,
   "id": "14ad434d",
   "metadata": {},
   "outputs": [
    {
     "name": "stdout",
     "output_type": "stream",
     "text": [
      "-1.4617992442433667 3.3806901556004645 1.8853654774642563 -7.573160964393407 -3.479178871312982 -3.479178871312982\n"
     ]
    }
   ],
   "source": [
    "theta_final=print(theta0,theta1,theta2,theta3,theta5,theta5)  "
   ]
  },
  {
   "cell_type": "code",
   "execution_count": 60,
   "id": "85e56092",
   "metadata": {},
   "outputs": [
    {
     "name": "stdout",
     "output_type": "stream",
     "text": [
      "mean1 =  [[-0.3]\n",
      " [-1.2]]\n",
      "mean2 =  [[1.]\n",
      " [2.]]\n"
     ]
    },
    {
     "data": {
      "image/png": "[encoded data removed]",
      "text/plain": [
       "<Figure size 504x504 with 1 Axes>"
      ]
     },
     "metadata": {
      "needs_background": "light"
     },
     "output_type": "display_data"
    }
   ],
   "source": [
    "\n",
    "\n",
    "\n",
    "label1 = np.array([[-0.6,  0. ,  0.2, -0.8, -0.3],[-2. , -2. , -1. , -1. ,  0.]])\n",
    "label2 = np.array([[0.5,  1. ,  1.5,  1.5,  1. ,  0.5],[ 2.5,  1. ,  1.5,  2.5,  3. ,  1.5]])\n",
    "\n",
    "#Plot the data\n",
    "fig = plt.figure(figsize=(7,7))\n",
    "ax0 = fig.add_subplot(111)\n",
    "\n",
    "ax0.scatter(label1[0],label1[1],marker='^',c='yellow',edgecolor='black')\n",
    "ax0.scatter(label2[0],label2[1],marker='o',c='blue',edgecolor='black')\n",
    "\n",
    "# Calculating the mean vectors\n",
    "mean_1 = np.mean(label1,axis=1).reshape(2,1)\n",
    "print('mean1 = ',mean_1)\n",
    "mean_2 = np.mean(label2,axis=1).reshape(2,1)\n",
    "print('mean2 = ',mean_2)\n",
    "sca_1 = np.dot((label1-mean_1),(label1-mean_1).T)\n",
    "sca_2 = np.dot((label2-mean_2),(label2-mean_2).T)\n",
    "\n"
   ]
  },
  {
   "cell_type": "code",
   "execution_count": null,
   "id": "1b68f484",
   "metadata": {},
   "outputs": [],
   "source": [
    "#QUESTION 5"
   ]
  },
  {
   "cell_type": "code",
   "execution_count": 65,
   "id": "4d01411f",
   "metadata": {},
   "outputs": [
    {
     "data": {
      "text/plain": [
       "[<matplotlib.lines.Line2D at 0x7fae585a4f40>]"
      ]
     },
     "execution_count": 65,
     "metadata": {},
     "output_type": "execute_result"
    },
    {
     "data": {
      "image/png": "[encoded data removed]",
      "text/plain": [
       "<Figure size 504x504 with 1 Axes>"
      ]
     },
     "metadata": {},
     "output_type": "display_data"
    }
   ],
   "source": [
    "import numpy as np\n",
    "import matplotlib.pyplot as plt\n",
    "from matplotlib import style\n",
    "import pandas as pd\n",
    "style.use('fivethirtyeight')\n",
    "np.random.seed(seed=42)\n",
    "\n",
    "#Plot the data\n",
    "fig = plt.figure(figsize=(7,7))\n",
    "ax0 = fig.add_subplot(111)\n",
    "\n",
    "ax0.scatter(label1[0],label1[1],marker='^',c='yellow',edgecolor='black')\n",
    "ax0.scatter(label2[0],label2[1],marker='o',c='blue',edgecolor='black')\n",
    "plt.plot(x_value,y_value,\"r\")\n",
    "#plt.plot(plot_x, plot_y, label = \"Decision_Boundary\")\n",
    "\n",
    "\n"
   ]
  },
  {
   "cell_type": "code",
   "execution_count": 66,
   "id": "28893d20",
   "metadata": {},
   "outputs": [
    {
     "name": "stdout",
     "output_type": "stream",
     "text": [
      "mu0 =  [[-0.3]\n",
      " [-1.2]]\n",
      "mu1 =  [[1.]\n",
      " [2.]]\n"
     ]
    },
    {
     "data": {
      "text/plain": [
       "(2, 1)"
      ]
     },
     "execution_count": 66,
     "metadata": {},
     "output_type": "execute_result"
    }
   ],
   "source": [
    "mu0 = np.mean(label1,axis=1).reshape(2,1)\n",
    "print('mu0 = ',mu0)\n",
    "mu1 = np.mean(label2,axis=1).reshape(2,1)\n",
    "print('mu1 = ',mu1)\n",
    "\n",
    "np.matrix(mu0).shape\n",
    "\n"
   ]
  },
  {
   "cell_type": "code",
   "execution_count": 67,
   "id": "669f833b",
   "metadata": {},
   "outputs": [
    {
     "data": {
      "text/plain": [
       "array([[0.18666667, 0.        ],\n",
       "       [0.        , 0.64444444]])"
      ]
     },
     "execution_count": 67,
     "metadata": {},
     "output_type": "execute_result"
    }
   ],
   "source": [
    "m = len(label1.T) + len(label2.T)\n",
    "\n",
    "label1_mu0 = np.dot((label1-mu0),(label1-mu0).T)\n",
    "label2_mu1 = np.dot((label2-mu1),(label2-mu1).T)\n",
    "\n",
    "\n",
    "#Calculating Covariance Matrix\n",
    "sigma = (label1_mu0 + label2_mu1)/(m-2)\n",
    "sigma\n"
   ]
  },
  {
   "cell_type": "code",
   "execution_count": 68,
   "id": "38e6e59d",
   "metadata": {},
   "outputs": [],
   "source": [
    "\n",
    "rectangles = np.array([[-0.6,  0. ,  0.2, -0.8, -0.3],[-2 , -2 , -1 , -1 ,  0]])\n",
    "circles = np.array([[0.5,  1. ,  1.5,  1.5,  1. ,  0.5],[2.5,  1 ,  1.5,  2.5,  3 , 1.5]])\n",
    "\n",
    "combined=np.array([[-0.6,  0. ,  0.2, -0.8, -0.3,  0.5,  1. ,  1.5,  1.5,  1. ,  \n",
    "0.5],[-2. , -2. , -1. , -1. ,  0. ,  2.5,  1. ,  1.5,  2.5,  3. ,  \n",
    "1.5]])\n",
    "\n",
    "n_r = len(rectangles.T)\n",
    "n_c = len(circles.T)\n",
    "\n",
    "\n",
    "n_t = n_r + n_c"
   ]
  },
  {
   "cell_type": "code",
   "execution_count": 70,
   "id": "0ccab78e",
   "metadata": {},
   "outputs": [
    {
     "data": {
      "text/plain": [
       "<matplotlib.collections.PathCollection at 0x7fae586dfdc0>"
      ]
     },
     "execution_count": 70,
     "metadata": {},
     "output_type": "execute_result"
    },
    {
     "data": {
      "image/png": "[encoded data removed]",
      "text/plain": [
       "<Figure size 720x720 with 1 Axes>"
      ]
     },
     "metadata": {},
     "output_type": "display_data"
    }
   ],
   "source": [
    "\n",
    "fig = plt.figure(figsize=(10,10))\n",
    "ax0 = fig.add_subplot(111)\n",
    "\n",
    "ax0.scatter(rectangles[0],rectangles[1],marker='s',c='yellow',edgecolor='black')\n",
    "ax0.scatter(circles[0],circles[1],marker='o',c='blue',edgecolor='black')\n",
    "\n"
   ]
  },
  {
   "cell_type": "code",
   "execution_count": 71,
   "id": "721cc555",
   "metadata": {},
   "outputs": [
    {
     "name": "stdout",
     "output_type": "stream",
     "text": [
      "Mean_1 (Label 1):\n",
      "[[-0.3]\n",
      " [-1.2]]\n",
      "Mean_2 (Label 2):\n",
      "[[1.]\n",
      " [2.]]\n",
      "[[0.40909091]\n",
      " [0.54545455]]\n"
     ]
    }
   ],
   "source": [
    "mean_rectangles = np.mean(rectangles,axis=1).reshape(2,1) # Creates a 2x1 vector consisting of the means of the dimensions \n",
    "mean_circles = np.mean(circles,axis=1).reshape(2,1)\n",
    "\n",
    "mean_combined = np.mean(combined,axis=1).reshape(2,1)\n",
    "\n",
    "print('Mean_1 (Label 1):')\n",
    "print(mean_rectangles)\n",
    "print('Mean_2 (Label 2):')\n",
    "print(mean_circles)\n",
    "print(mean_combined)\n",
    "\n",
    "\n"
   ]
  },
  {
   "cell_type": "code",
   "execution_count": 83,
   "id": "fd7e70a3",
   "metadata": {},
   "outputs": [
    {
     "name": "stdout",
     "output_type": "stream",
     "text": [
      "[[0.68 0.  ]\n",
      " [0.   2.8 ]]\n",
      "[[1. 0.]\n",
      " [0. 3.]]\n",
      "sigma: [[0.18666667 0.        ]\n",
      " [0.         0.64444444]]\n",
      "phi_1 = 0.45454545454545453 , phi_2 = 0.5454545454545454\n"
     ]
    }
   ],
   "source": [
    "# Calculate the covariance matrix here\n",
    "covariance_r = np.dot((rectangles-mean_rectangles),(rectangles-mean_rectangles).T)\n",
    "# print(np.var(rectangles[0],ddof=0))\n",
    "\n",
    "covariance_c = np.dot((circles-mean_circles),(circles-mean_circles).T)\n",
    "# print(np.var(circles[0],ddof=0))\n",
    "\n",
    "sigma = (1/(n_t - 2))*(covariance_r + covariance_c)\n",
    "\n",
    "print(covariance_r)\n",
    "print(covariance_c)\n",
    "print('sigma:',sigma)\n",
    "\n",
    "\n",
    "phi_r = n_r/n_t\n",
    "phi_c = n_c/n_t\n",
    "\n",
    "print('phi_1 = ' + str(phi_r),',','phi_2 = ' + str(phi_c))\n",
    "\n"
   ]
  },
  {
   "cell_type": "code",
   "execution_count": null,
   "id": "bc934d8e",
   "metadata": {},
   "outputs": [],
   "source": [
    "#PART 1(2)"
   ]
  },
  {
   "cell_type": "code",
   "execution_count": 77,
   "id": "8e6295a1",
   "metadata": {},
   "outputs": [
    {
     "name": "stdout",
     "output_type": "stream",
     "text": [
      "(x1 x2) [[-6.96428571 -4.96551724]]\n",
      "C [[-4.24138534]]\n"
     ]
    }
   ],
   "source": [
    "s_inv = np.linalg.inv(sigma)\n",
    "\n",
    "for1A = s_inv.dot(mean_rectangles)\n",
    "for1B = -(1/2)*(mean_rectangles.T).dot(s_inv).dot(mean_rectangles) + np.log(phi_r)\n",
    "\n",
    "for2A = s_inv.dot(mean_circles)\n",
    "for2B = -(1/2)*(mean_circles.T).dot(s_inv).dot(mean_circles) + np.log(phi_c)\n",
    "\n",
    "forA = for1A - for2A\n",
    "forB = for2B - for1B\n",
    "\n",
    "print('(x1 x2)', forA.T)\n",
    "print('C', forB)\n",
    "\n",
    "\n"
   ]
  },
  {
   "cell_type": "code",
   "execution_count": null,
   "id": "e519a49b",
   "metadata": {},
   "outputs": [],
   "source": []
  }
 ],
 "metadata": {
  "kernelspec": {
   "display_name": "Python 3 (ipykernel)",
   "language": "python",
   "name": "python3"
  },
  "language_info": {
   "codemirror_mode": {
    "name": "ipython",
    "version": 3
   },
   "file_extension": ".py",
   "mimetype": "text/x-python",
   "name": "python",
   "nbconvert_exporter": "python",
   "pygments_lexer": "ipython3",
   "version": "3.9.7"
  }
 },
 "nbformat": 4,
 "nbformat_minor": 5
}
